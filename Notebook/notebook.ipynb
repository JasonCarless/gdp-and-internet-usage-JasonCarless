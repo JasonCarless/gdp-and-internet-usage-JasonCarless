{
 "cells": [
  {
   "cell_type": "code",
   "execution_count": 38,
   "id": "8419fc1a",
   "metadata": {},
   "outputs": [],
   "source": [
    "import pandas as pd\n",
    "import numpy as np\n",
    "import matplotlib.pyplot as plt\n",
    "import seaborn as sns"
   ]
  },
  {
   "cell_type": "code",
   "execution_count": 2,
   "id": "53848086",
   "metadata": {},
   "outputs": [],
   "source": [
    "%matplotlib inline"
   ]
  },
  {
   "cell_type": "code",
   "execution_count": 3,
   "id": "a0fe545d",
   "metadata": {},
   "outputs": [],
   "source": [
    "gdp_df = pd.read_csv(\"../Data/gdp_percapita.csv\", nrows=6868)"
   ]
  },
  {
   "cell_type": "code",
   "execution_count": 4,
   "id": "1908e6b1",
   "metadata": {},
   "outputs": [],
   "source": [
    "internet_df = pd.read_csv(\"../Data/internet_use.csv\", nrows=4495)"
   ]
  },
  {
   "cell_type": "markdown",
   "id": "d25fa5db",
   "metadata": {},
   "source": [
    "Using the pandas `read_csv()` method, read the GDP dataset into your notebook as a DataFrame called `gdp_df`. Take a look at the first 6 rows."
   ]
  },
  {
   "cell_type": "code",
   "execution_count": 5,
   "id": "5d8db322",
   "metadata": {},
   "outputs": [
    {
     "name": "stdout",
     "output_type": "stream",
     "text": [
      "     Country or Area  Year        Value  Value Footnotes\n",
      "0        Afghanistan  2019  2065.036398              NaN\n",
      "1        Afghanistan  2018  2033.779002              NaN\n",
      "2        Afghanistan  2017  2058.383832              NaN\n",
      "3        Afghanistan  2016  2057.062164              NaN\n",
      "4        Afghanistan  2015  2068.265904              NaN\n",
      "...              ...   ...          ...              ...\n",
      "6863        Zimbabwe  1994  3263.934978              NaN\n",
      "6864        Zimbabwe  1993  3033.504852              NaN\n",
      "6865        Zimbabwe  1992  3054.889178              NaN\n",
      "6866        Zimbabwe  1991  3426.598094              NaN\n",
      "6867        Zimbabwe  1990  3324.348171              NaN\n",
      "\n",
      "[6868 rows x 4 columns]\n"
     ]
    }
   ],
   "source": [
    "print(gdp_df)"
   ]
  },
  {
   "cell_type": "markdown",
   "id": "70d6b7de",
   "metadata": {},
   "source": [
    "Repeat for the internet use dataset. Call this DataFrame `internet_df`. Take a look at the first six rows."
   ]
  },
  {
   "cell_type": "code",
   "execution_count": 6,
   "id": "529fee80",
   "metadata": {},
   "outputs": [
    {
     "name": "stdout",
     "output_type": "stream",
     "text": [
      "     Country or Area  Year     Value  Value Footnotes\n",
      "0        Afghanistan  2014  6.390000              NaN\n",
      "1        Afghanistan  2013  5.900000              NaN\n",
      "2        Afghanistan  2012  5.454545              NaN\n",
      "3        Afghanistan  2011  5.000000              NaN\n",
      "4        Afghanistan  2010  4.000000              NaN\n",
      "...              ...   ...       ...              ...\n",
      "4490        Zimbabwe  1997  0.033080              NaN\n",
      "4491        Zimbabwe  1996  0.016790              NaN\n",
      "4492        Zimbabwe  1995  0.007684              NaN\n",
      "4493        Zimbabwe  1994  0.001739              NaN\n",
      "4494        Zimbabwe  1990  0.000000              NaN\n",
      "\n",
      "[4495 rows x 4 columns]\n"
     ]
    }
   ],
   "source": [
    "print(internet_df)"
   ]
  },
  {
   "cell_type": "markdown",
   "id": "e0a0b580",
   "metadata": {},
   "source": [
    "Look at the shape of each DataFrame - how many rows? How many columns?"
   ]
  },
  {
   "cell_type": "markdown",
   "id": "574dde59",
   "metadata": {},
   "source": [
    "gdp_pf has 6868 rows and 4 columns\n",
    "internet_df has 4495 rows and 4 columns"
   ]
  },
  {
   "cell_type": "markdown",
   "id": "71b8a531",
   "metadata": {},
   "source": [
    "8.\tTake a look at the datatypes for the columns in each DataFrame."
   ]
  },
  {
   "cell_type": "code",
   "execution_count": 7,
   "id": "0812c066",
   "metadata": {},
   "outputs": [
    {
     "name": "stdout",
     "output_type": "stream",
     "text": [
      "Country or Area     object\n",
      "Year                 int64\n",
      "Value              float64\n",
      "Value Footnotes    float64\n",
      "dtype: object\n"
     ]
    }
   ],
   "source": [
    "print(gdp_df.dtypes)"
   ]
  },
  {
   "cell_type": "code",
   "execution_count": 8,
   "id": "2fc94f2f",
   "metadata": {},
   "outputs": [
    {
     "name": "stdout",
     "output_type": "stream",
     "text": [
      "Country or Area     object\n",
      "Year                 int64\n",
      "Value              float64\n",
      "Value Footnotes    float64\n",
      "dtype: object\n"
     ]
    }
   ],
   "source": [
    "print(internet_df.dtypes)"
   ]
  },
  {
   "cell_type": "markdown",
   "id": "5dbe8f43",
   "metadata": {},
   "source": [
    "9. Take a look at the last 10 rows of each DataFrame in turn."
   ]
  },
  {
   "cell_type": "code",
   "execution_count": 9,
   "id": "fba88fcd",
   "metadata": {},
   "outputs": [
    {
     "name": "stdout",
     "output_type": "stream",
     "text": [
      "     Country or Area  Year        Value  Value Footnotes\n",
      "6858        Zimbabwe  1999  3600.849291              NaN\n",
      "6859        Zimbabwe  1998  3653.920016              NaN\n",
      "6860        Zimbabwe  1997  3580.048793              NaN\n",
      "6861        Zimbabwe  1996  3520.430146              NaN\n",
      "6862        Zimbabwe  1995  3226.413930              NaN\n",
      "6863        Zimbabwe  1994  3263.934978              NaN\n",
      "6864        Zimbabwe  1993  3033.504852              NaN\n",
      "6865        Zimbabwe  1992  3054.889178              NaN\n",
      "6866        Zimbabwe  1991  3426.598094              NaN\n",
      "6867        Zimbabwe  1990  3324.348171              NaN\n"
     ]
    }
   ],
   "source": [
    "print(gdp_df.tail(10))"
   ]
  },
  {
   "cell_type": "code",
   "execution_count": 10,
   "id": "a933f2f8",
   "metadata": {},
   "outputs": [
    {
     "name": "stdout",
     "output_type": "stream",
     "text": [
      "     Country or Area  Year     Value  Value Footnotes\n",
      "4485        Zimbabwe  2002  3.994356              NaN\n",
      "4486        Zimbabwe  2001  0.799846              NaN\n",
      "4487        Zimbabwe  2000  0.401434              NaN\n",
      "4488        Zimbabwe  1999  0.161676              NaN\n",
      "4489        Zimbabwe  1998  0.081648              NaN\n",
      "4490        Zimbabwe  1997  0.033080              NaN\n",
      "4491        Zimbabwe  1996  0.016790              NaN\n",
      "4492        Zimbabwe  1995  0.007684              NaN\n",
      "4493        Zimbabwe  1994  0.001739              NaN\n",
      "4494        Zimbabwe  1990  0.000000              NaN\n"
     ]
    }
   ],
   "source": [
    "print(internet_df.tail(10))"
   ]
  },
  {
   "cell_type": "markdown",
   "id": "248b2ffe",
   "metadata": {},
   "source": [
    "9. Take a look at the last 10 rows of each DataFrame in turn."
   ]
  },
  {
   "cell_type": "markdown",
   "id": "a30b1e53",
   "metadata": {},
   "source": [
    "10.\tDrop the `value footnotes` column from both DataFrames. Check that this worked as expected."
   ]
  },
  {
   "cell_type": "code",
   "execution_count": 11,
   "id": "8b6af89e",
   "metadata": {
    "scrolled": true
   },
   "outputs": [
    {
     "name": "stdout",
     "output_type": "stream",
     "text": [
      "     Country or Area  Year        Value  Value Footnotes\n",
      "0        Afghanistan  2019  2065.036398              NaN\n",
      "1        Afghanistan  2018  2033.779002              NaN\n",
      "2        Afghanistan  2017  2058.383832              NaN\n",
      "3        Afghanistan  2016  2057.062164              NaN\n",
      "4        Afghanistan  2015  2068.265904              NaN\n",
      "...              ...   ...          ...              ...\n",
      "6863        Zimbabwe  1994  3263.934978              NaN\n",
      "6864        Zimbabwe  1993  3033.504852              NaN\n",
      "6865        Zimbabwe  1992  3054.889178              NaN\n",
      "6866        Zimbabwe  1991  3426.598094              NaN\n",
      "6867        Zimbabwe  1990  3324.348171              NaN\n",
      "\n",
      "[6868 rows x 4 columns]\n"
     ]
    }
   ],
   "source": [
    "print(gdp_df)"
   ]
  },
  {
   "cell_type": "code",
   "execution_count": 12,
   "id": "4448ebf3",
   "metadata": {},
   "outputs": [
    {
     "name": "stderr",
     "output_type": "stream",
     "text": [
      "C:\\Users\\varjack13\\AppData\\Local\\Temp\\ipykernel_14924\\2122303592.py:1: FutureWarning: In a future version of pandas all arguments of DataFrame.drop except for the argument 'labels' will be keyword-only.\n",
      "  internet_df = internet_df.drop(\"Value Footnotes\",1)\n"
     ]
    }
   ],
   "source": [
    "internet_df = internet_df.drop(\"Value Footnotes\",1)"
   ]
  },
  {
   "cell_type": "code",
   "execution_count": 13,
   "id": "4a85dbd3",
   "metadata": {},
   "outputs": [
    {
     "name": "stdout",
     "output_type": "stream",
     "text": [
      "     Country or Area  Year     Value\n",
      "0        Afghanistan  2014  6.390000\n",
      "1        Afghanistan  2013  5.900000\n",
      "2        Afghanistan  2012  5.454545\n",
      "3        Afghanistan  2011  5.000000\n",
      "4        Afghanistan  2010  4.000000\n",
      "...              ...   ...       ...\n",
      "4490        Zimbabwe  1997  0.033080\n",
      "4491        Zimbabwe  1996  0.016790\n",
      "4492        Zimbabwe  1995  0.007684\n",
      "4493        Zimbabwe  1994  0.001739\n",
      "4494        Zimbabwe  1990  0.000000\n",
      "\n",
      "[4495 rows x 3 columns]\n"
     ]
    }
   ],
   "source": [
    "print(internet_df)"
   ]
  },
  {
   "cell_type": "markdown",
   "id": "d8d60592",
   "metadata": {},
   "source": [
    "11.\tChange the columns for the GDP Per Capita DataFrame to ‘Country’, ‘Year’, and ‘GDP_Per_Capita’."
   ]
  },
  {
   "cell_type": "code",
   "execution_count": 14,
   "id": "7549cd37",
   "metadata": {},
   "outputs": [],
   "source": [
    "gdp_df.rename(columns={'Country or Area' : 'Country','Value':'GDP_Per_Capita'}, inplace = True)"
   ]
  },
  {
   "cell_type": "markdown",
   "id": "6fb54b2f",
   "metadata": {},
   "source": [
    "12.\tChange the columns for the Internet Users DataFrame to ‘Country’, ‘Year’, and ‘Internet_Users_Pct’."
   ]
  },
  {
   "cell_type": "code",
   "execution_count": 15,
   "id": "5276ebdb",
   "metadata": {},
   "outputs": [],
   "source": [
    "internet_df.rename(columns={'Country or Area' : 'Country','Value':'Internet_Users_Pct'}, inplace = True)"
   ]
  },
  {
   "cell_type": "code",
   "execution_count": 16,
   "id": "0cdb974f",
   "metadata": {},
   "outputs": [
    {
     "name": "stdout",
     "output_type": "stream",
     "text": [
      "          Country  Year  GDP_Per_Capita  Value Footnotes\n",
      "0     Afghanistan  2019     2065.036398              NaN\n",
      "1     Afghanistan  2018     2033.779002              NaN\n",
      "2     Afghanistan  2017     2058.383832              NaN\n",
      "3     Afghanistan  2016     2057.062164              NaN\n",
      "4     Afghanistan  2015     2068.265904              NaN\n",
      "...           ...   ...             ...              ...\n",
      "6863     Zimbabwe  1994     3263.934978              NaN\n",
      "6864     Zimbabwe  1993     3033.504852              NaN\n",
      "6865     Zimbabwe  1992     3054.889178              NaN\n",
      "6866     Zimbabwe  1991     3426.598094              NaN\n",
      "6867     Zimbabwe  1990     3324.348171              NaN\n",
      "\n",
      "[6868 rows x 4 columns]\n",
      "          Country  Year  Internet_Users_Pct\n",
      "0     Afghanistan  2014            6.390000\n",
      "1     Afghanistan  2013            5.900000\n",
      "2     Afghanistan  2012            5.454545\n",
      "3     Afghanistan  2011            5.000000\n",
      "4     Afghanistan  2010            4.000000\n",
      "...           ...   ...                 ...\n",
      "4490     Zimbabwe  1997            0.033080\n",
      "4491     Zimbabwe  1996            0.016790\n",
      "4492     Zimbabwe  1995            0.007684\n",
      "4493     Zimbabwe  1994            0.001739\n",
      "4494     Zimbabwe  1990            0.000000\n",
      "\n",
      "[4495 rows x 3 columns]\n"
     ]
    }
   ],
   "source": [
    "print(gdp_df)\n",
    "print(internet_df)"
   ]
  },
  {
   "cell_type": "markdown",
   "id": "e3fa18c5",
   "metadata": {},
   "source": [
    "13.\tMerge the two DataFrames to one. Merge **all rows** from each of the two DataFrames. Call the new DataFrame `gdp_and_internet_use`."
   ]
  },
  {
   "cell_type": "code",
   "execution_count": 17,
   "id": "22db116b",
   "metadata": {},
   "outputs": [],
   "source": [
    "gdp_and_internet_use = pd.merge(gdp_df,internet_df, how='inner')"
   ]
  },
  {
   "cell_type": "code",
   "execution_count": 18,
   "id": "895b1750",
   "metadata": {},
   "outputs": [
    {
     "name": "stdout",
     "output_type": "stream",
     "text": [
      "          Country  Year  GDP_Per_Capita  Value Footnotes  Internet_Users_Pct\n",
      "0     Afghanistan  2014     2102.385234              NaN            6.390000\n",
      "1     Afghanistan  2013     2116.465454              NaN            5.900000\n",
      "2     Afghanistan  2012     2075.491747              NaN            5.454545\n",
      "3     Afghanistan  2011     1904.559799              NaN            5.000000\n",
      "4     Afghanistan  2010     1957.029338              NaN            4.000000\n",
      "...           ...   ...             ...              ...                 ...\n",
      "3453     Zimbabwe  1997     3580.048793              NaN            0.033080\n",
      "3454     Zimbabwe  1996     3520.430146              NaN            0.016790\n",
      "3455     Zimbabwe  1995     3226.413930              NaN            0.007684\n",
      "3456     Zimbabwe  1994     3263.934978              NaN            0.001739\n",
      "3457     Zimbabwe  1990     3324.348171              NaN            0.000000\n",
      "\n",
      "[3458 rows x 5 columns]\n"
     ]
    }
   ],
   "source": [
    "print(gdp_and_internet_use)"
   ]
  },
  {
   "cell_type": "markdown",
   "id": "e3f5a29b",
   "metadata": {},
   "source": [
    "16.\tSubset the combined DataFrame to keep only the data for 2004, 2009, and 2014. Check that this happened correctly."
   ]
  },
  {
   "cell_type": "code",
   "execution_count": 19,
   "id": "ef428042",
   "metadata": {},
   "outputs": [],
   "source": [
    "sub = gdp_and_internet_use[gdp_and_internet_use['Year'].isin([2004,2009,2014])]"
   ]
  },
  {
   "cell_type": "code",
   "execution_count": 20,
   "id": "b824006b",
   "metadata": {},
   "outputs": [
    {
     "name": "stdout",
     "output_type": "stream",
     "text": [
      "          Country  Year  GDP_Per_Capita  Value Footnotes  Internet_Users_Pct\n",
      "0     Afghanistan  2014     2102.385234              NaN            6.390000\n",
      "5     Afghanistan  2009     1758.904043              NaN            3.550000\n",
      "10    Afghanistan  2004     1200.278256              NaN            0.105809\n",
      "13        Albania  2014    11623.866679              NaN           60.100000\n",
      "18        Albania  2009    10346.864199              NaN           41.200000\n",
      "...           ...   ...             ...              ...                 ...\n",
      "3419       Zambia  2009     2917.516220              NaN            6.310000\n",
      "3424       Zambia  2004     2261.766537              NaN            2.013550\n",
      "3436     Zimbabwe  2014     2955.240287              NaN           19.890000\n",
      "3441     Zimbabwe  2009     1925.364381              NaN           11.360000\n",
      "3446     Zimbabwe  2004     2480.859342              NaN            6.564045\n",
      "\n",
      "[482 rows x 5 columns]\n"
     ]
    }
   ],
   "source": [
    "print(sub)"
   ]
  },
  {
   "cell_type": "markdown",
   "id": "f73a6552",
   "metadata": {},
   "source": [
    "17. Create three new DataFrames, one for 2004, one for 2009, and one for 2014. Give them meaningful names that aren't too long."
   ]
  },
  {
   "cell_type": "code",
   "execution_count": 21,
   "id": "6f5e0fa3",
   "metadata": {},
   "outputs": [],
   "source": [
    "data_2004 = gdp_and_internet_use[gdp_and_internet_use['Year'] == 2004]"
   ]
  },
  {
   "cell_type": "code",
   "execution_count": 22,
   "id": "2b07ebac",
   "metadata": {},
   "outputs": [],
   "source": [
    "data_2009 = gdp_and_internet_use[gdp_and_internet_use['Year'] == 2009]"
   ]
  },
  {
   "cell_type": "code",
   "execution_count": 23,
   "id": "64833db9",
   "metadata": {},
   "outputs": [],
   "source": [
    "data_2014 = gdp_and_internet_use[gdp_and_internet_use['Year'] == 2014]"
   ]
  },
  {
   "cell_type": "markdown",
   "id": "4c830963",
   "metadata": {},
   "source": [
    "18. Which country had the highest percentage of internet users in 2014? What was the percentage? (Try typing the first 3 letters of your DataFrame name and hitting the tab key for auto-complete options)."
   ]
  },
  {
   "cell_type": "code",
   "execution_count": 24,
   "id": "d4651659",
   "metadata": {
    "scrolled": true
   },
   "outputs": [
    {
     "name": "stdout",
     "output_type": "stream",
     "text": [
      "      Country  Year  GDP_Per_Capita  Value Footnotes  Internet_Users_Pct\n",
      "1381  Iceland  2014      49652.1495              NaN               98.16\n"
     ]
    }
   ],
   "source": [
    "print(data_2014[data_2014.Internet_Users_Pct == data_2014.Internet_Users_Pct.max()])"
   ]
  },
  {
   "cell_type": "markdown",
   "id": "f4a4c63f",
   "metadata": {},
   "source": [
    "19. Which country had the lowest percentage of internet users in 2014? What was the percentage?"
   ]
  },
  {
   "cell_type": "code",
   "execution_count": 25,
   "id": "4f88ef3f",
   "metadata": {},
   "outputs": [
    {
     "name": "stdout",
     "output_type": "stream",
     "text": [
      "          Country  Year  GDP_Per_Capita  Value Footnotes  Internet_Users_Pct\n",
      "3087  Timor-Leste  2014      3264.56807              NaN                1.14\n"
     ]
    }
   ],
   "source": [
    "print(data_2014[data_2014.Internet_Users_Pct == data_2014.Internet_Users_Pct.min()])"
   ]
  },
  {
   "cell_type": "markdown",
   "id": "57ac2954",
   "metadata": {},
   "source": [
    "20. Repeat for 2004 and 2009."
   ]
  },
  {
   "cell_type": "code",
   "execution_count": 26,
   "id": "36262048",
   "metadata": {},
   "outputs": [
    {
     "name": "stdout",
     "output_type": "stream",
     "text": [
      "     Country  Year  GDP_Per_Capita  Value Footnotes  Internet_Users_Pct\n",
      "2985  Sweden  2004    44496.023401              NaN               83.89\n",
      "      Country  Year  GDP_Per_Capita  Value Footnotes  Internet_Users_Pct\n",
      "2132  Myanmar  2004      1696.88176              NaN            0.024337\n"
     ]
    }
   ],
   "source": [
    "print(data_2004[data_2004.Internet_Users_Pct == data_2004.Internet_Users_Pct.max()])\n",
    "print(data_2004[data_2004.Internet_Users_Pct == data_2004.Internet_Users_Pct.min()])"
   ]
  },
  {
   "cell_type": "code",
   "execution_count": 27,
   "id": "64128165",
   "metadata": {},
   "outputs": [
    {
     "name": "stdout",
     "output_type": "stream",
     "text": [
      "      Country  Year  GDP_Per_Capita  Value Footnotes  Internet_Users_Pct\n",
      "1386  Iceland  2009    48177.084123              NaN                93.0\n",
      "          Country  Year  GDP_Per_Capita  Value Footnotes  Internet_Users_Pct\n",
      "3092  Timor-Leste  2009     2724.770973              NaN            0.185252\n"
     ]
    }
   ],
   "source": [
    "print(data_2009[data_2009.Internet_Users_Pct == data_2009.Internet_Users_Pct.max()])\n",
    "print(data_2009[data_2009.Internet_Users_Pct == data_2009.Internet_Users_Pct.min()])"
   ]
  },
  {
   "cell_type": "markdown",
   "id": "e93f0ba5",
   "metadata": {},
   "source": [
    "21. Which country had the highest gdp per capita in 2014? What was the gdp per capita?"
   ]
  },
  {
   "cell_type": "code",
   "execution_count": 28,
   "id": "bb0d705c",
   "metadata": {},
   "outputs": [
    {
     "name": "stdout",
     "output_type": "stream",
     "text": [
      "         Country  Year  GDP_Per_Capita  Value Footnotes  Internet_Users_Pct\n",
      "1798  Luxembourg  2014    108760.91603              NaN               94.67\n"
     ]
    }
   ],
   "source": [
    "print(data_2014[data_2014.GDP_Per_Capita == data_2014.GDP_Per_Capita.max()])"
   ]
  },
  {
   "cell_type": "markdown",
   "id": "24dade24",
   "metadata": {},
   "source": [
    "22. Which country had the lowest gdp per capita in 2014? What was the gdp per capita?"
   ]
  },
  {
   "cell_type": "code",
   "execution_count": 29,
   "id": "501a81b7",
   "metadata": {},
   "outputs": [
    {
     "name": "stdout",
     "output_type": "stream",
     "text": [
      "     Country  Year  GDP_Per_Capita  Value Footnotes  Internet_Users_Pct\n",
      "540  Burundi  2014      886.235777              NaN                1.38\n"
     ]
    }
   ],
   "source": [
    "print(data_2014[data_2014.GDP_Per_Capita == data_2014.GDP_Per_Capita.min()])"
   ]
  },
  {
   "cell_type": "markdown",
   "id": "44cb0dec",
   "metadata": {},
   "source": [
    "23. Create some scatterplots:\n",
    "a. 2004 Percent Using the Internet vs GDP Per Capita"
   ]
  },
  {
   "cell_type": "code",
   "execution_count": 30,
   "id": "00049544",
   "metadata": {},
   "outputs": [
    {
     "data": {
      "image/png": "[encoded data removed]",
      "text/plain": [
       "<Figure size 432x288 with 1 Axes>"
      ]
     },
     "metadata": {
      "needs_background": "light"
     },
     "output_type": "display_data"
    }
   ],
   "source": [
    "plt.scatter(data_2004['Internet_Users_Pct'], data_2004['GDP_Per_Capita'])\n",
    "plt.xlabel(\"Internet Use\")\n",
    "plt.ylabel(\"GDP Per Capita\")\n",
    "plt.title(\"Internet Use vs. GDP Per Capita\")\n",
    "plt.show()"
   ]
  },
  {
   "cell_type": "markdown",
   "id": "7e71aa79",
   "metadata": {},
   "source": [
    "b. 2009 Percent Using the Internet vs GDP Per Capita"
   ]
  },
  {
   "cell_type": "code",
   "execution_count": 31,
   "id": "e9ba9ce4",
   "metadata": {},
   "outputs": [
    {
     "data": {
      "image/png": "[encoded data removed]",
      "text/plain": [
       "<Figure size 432x288 with 1 Axes>"
      ]
     },
     "metadata": {
      "needs_background": "light"
     },
     "output_type": "display_data"
    }
   ],
   "source": [
    "plt.scatter(data_2009['Internet_Users_Pct'], data_2009['GDP_Per_Capita'])\n",
    "plt.xlabel(\"Internet Use\")\n",
    "plt.ylabel(\"GDP Per Capita\")\n",
    "plt.show()"
   ]
  },
  {
   "cell_type": "markdown",
   "id": "41eb9b86",
   "metadata": {},
   "source": [
    "c. 2014 Percent Using the Internet vs GDP Per Capita"
   ]
  },
  {
   "cell_type": "code",
   "execution_count": 32,
   "id": "d0e471ee",
   "metadata": {},
   "outputs": [
    {
     "data": {
      "image/png": "[encoded data removed]",
      "text/plain": [
       "<Figure size 432x288 with 1 Axes>"
      ]
     },
     "metadata": {
      "needs_background": "light"
     },
     "output_type": "display_data"
    }
   ],
   "source": [
    "plt.scatter(data_2014['Internet_Users_Pct'], data_2014['GDP_Per_Capita'])\n",
    "plt.xlabel(\"Internet Use\")\n",
    "plt.ylabel(\"GDP Per Capita\")\n",
    "plt.title(\"Internet Use vs. GDP Per Capita\")\n",
    "plt.show()"
   ]
  },
  {
   "cell_type": "markdown",
   "id": "dd1eb704",
   "metadata": {},
   "source": [
    "24. Are there differences across years? What do the plots tell you about any relationship between these two variables? Enter your observations as a markdown cell."
   ]
  },
  {
   "cell_type": "markdown",
   "id": "8850b5e2",
   "metadata": {},
   "source": [
    "There are less outliers as the years progress. The chart also follows more of an exponential curve as opposed to a straight increasing line"
   ]
  },
  {
   "cell_type": "markdown",
   "id": "5a2c938e",
   "metadata": {},
   "source": [
    "25. Look at the distribution of gdp per capita values for 2014. Is it unimodal?"
   ]
  },
  {
   "cell_type": "code",
   "execution_count": 33,
   "id": "58831ba0",
   "metadata": {},
   "outputs": [
    {
     "data": {
      "image/png": "[encoded data removed]",
      "text/plain": [
       "<Figure size 432x288 with 1 Axes>"
      ]
     },
     "metadata": {
      "needs_background": "light"
     },
     "output_type": "display_data"
    }
   ],
   "source": [
    "plt.hist(data_2014['GDP_Per_Capita'])\n",
    "plt.show()"
   ]
  },
  {
   "cell_type": "markdown",
   "id": "e204a8da",
   "metadata": {},
   "source": [
    "Yes the distribution is unimodal"
   ]
  },
  {
   "cell_type": "markdown",
   "id": "5964f641",
   "metadata": {},
   "source": [
    "26. Look at the distribution of Internet Use for 2014. Is it unimodal?"
   ]
  },
  {
   "cell_type": "code",
   "execution_count": 34,
   "id": "eb290320",
   "metadata": {},
   "outputs": [
    {
     "data": {
      "image/png": "[encoded data removed]",
      "text/plain": [
       "<Figure size 432x288 with 1 Axes>"
      ]
     },
     "metadata": {
      "needs_background": "light"
     },
     "output_type": "display_data"
    }
   ],
   "source": [
    "plt.hist(data_2014['Internet_Users_Pct'])\n",
    "plt.show()"
   ]
  },
  {
   "cell_type": "markdown",
   "id": "5e0cf9c5",
   "metadata": {},
   "source": [
    "no the data does not appear to be unimodal"
   ]
  },
  {
   "cell_type": "markdown",
   "id": "e36dfff9",
   "metadata": {},
   "source": [
    "27. What are the top 5 countries in terms of internet use in 2014?"
   ]
  },
  {
   "cell_type": "code",
   "execution_count": 35,
   "id": "b7414151",
   "metadata": {},
   "outputs": [
    {
     "name": "stdout",
     "output_type": "stream",
     "text": [
      "         Country  Year  GDP_Per_Capita  Value Footnotes  Internet_Users_Pct\n",
      "1381     Iceland  2014    49652.149500              NaN               98.16\n",
      "372      Bermuda  2014    77361.104881              NaN               96.80\n",
      "2296      Norway  2014    62589.373548              NaN               96.30\n",
      "854      Denmark  2014    52214.537753              NaN               95.99\n",
      "1798  Luxembourg  2014   108760.916030              NaN               94.67\n"
     ]
    }
   ],
   "source": [
    "top5_2014 =data_2014.nlargest(5, 'Internet_Users_Pct')\n",
    "print(top5_2014)"
   ]
  },
  {
   "cell_type": "markdown",
   "id": "af3c1c77",
   "metadata": {},
   "source": [
    "28. Create a DataFrame called top_5_internet from the combined DataFrame that has all three years for the 5 countries that had the greatest 2014 internet usage. You should have 15 rows. Check that this is true."
   ]
  },
  {
   "cell_type": "code",
   "execution_count": 57,
   "id": "a462de7d",
   "metadata": {},
   "outputs": [
    {
     "name": "stdout",
     "output_type": "stream",
     "text": [
      "         Country  Year  GDP_Per_Capita  Value Footnotes  Internet_Users_Pct\n",
      "382      Bermuda  2004    90195.811033              NaN           60.990867\n",
      "1808  Luxembourg  2004   102708.212547              NaN           65.880000\n",
      "2306      Norway  2004    60893.410993              NaN           77.690000\n",
      "864      Denmark  2004    50607.628971              NaN           80.930000\n",
      "377      Bermuda  2009    89961.982744              NaN           83.250000\n",
      "1391     Iceland  2004    45145.545658              NaN           83.880000\n",
      "859      Denmark  2009    50274.075696              NaN           86.840000\n",
      "1803  Luxembourg  2009   104932.811953              NaN           87.310000\n",
      "2301      Norway  2009    61886.564498              NaN           92.080000\n",
      "1386     Iceland  2009    48177.084123              NaN           93.000000\n",
      "1798  Luxembourg  2014   108760.916030              NaN           94.670000\n",
      "854      Denmark  2014    52214.537753              NaN           95.990000\n",
      "2296      Norway  2014    62589.373548              NaN           96.300000\n",
      "372      Bermuda  2014    77361.104881              NaN           96.800000\n",
      "1381     Iceland  2014    49652.149500              NaN           98.160000\n"
     ]
    }
   ],
   "source": [
    "top_5_internet = sub[sub.Country.isin(top5_2014.Country)]\n",
    "top_5_internet = top_5_internet.sort_values(\"Internet_Users_Pct\", ascending = True)\n",
    "print(top_5_internet)"
   ]
  },
  {
   "cell_type": "markdown",
   "id": "c8fd729a",
   "metadata": {},
   "source": [
    "29. Create a seaborn FacetGrid to show the internet usage trend across the years 2004, 2009, and 2014 for these 5 countries (those with the highest reported internet use in 2014). Which country had the greatest growth between 2004 and 2014?"
   ]
  },
  {
   "cell_type": "code",
   "execution_count": 54,
   "id": "79645b22",
   "metadata": {},
   "outputs": [
    {
     "data": {
      "text/plain": [
       "<seaborn.axisgrid.FacetGrid at 0x29992398bb0>"
      ]
     },
     "execution_count": 54,
     "metadata": {},
     "output_type": "execute_result"
    },
    {
     "data": {
      "image/png": "[encoded data removed]",
      "text/plain": [
       "<Figure size 1178.12x360 with 3 Axes>"
      ]
     },
     "metadata": {
      "needs_background": "light"
     },
     "output_type": "display_data"
    }
   ],
   "source": [
    "f= sns.FacetGrid(top_5_internet, col= \"Year\", hue=\"Country\", height = 5)\n",
    "f.map(plt.bar, \"Country\", \"Internet_Users_Pct\")\n",
    "f.add_legend(title= \"Country\")\n"
   ]
  },
  {
   "cell_type": "markdown",
   "id": "a6581c79",
   "metadata": {},
   "source": [
    "30. Repeat the steps above to look at the trend for the 5 countries with the lowest 2014 internet usage. Which country has consistently had the least internet use?"
   ]
  },
  {
   "cell_type": "code",
   "execution_count": 67,
   "id": "d6b8fbef",
   "metadata": {},
   "outputs": [
    {
     "name": "stdout",
     "output_type": "stream",
     "text": [
      "          Country  Year  GDP_Per_Capita  Value Footnotes  Internet_Users_Pct\n",
      "3087  Timor-Leste  2014     3264.568070              NaN                1.14\n",
      "540       Burundi  2014      886.235777              NaN                1.38\n",
      "1261       Guinea  2014     2061.760973              NaN                1.72\n",
      "2256        Niger  2014     1127.615541              NaN                1.95\n",
      "2122      Myanmar  2014     4020.037369              NaN                2.10\n"
     ]
    }
   ],
   "source": [
    "bottom5 = data_2014.nsmallest(5,\"Internet_Users_Pct\")\n",
    "print(bottom5)"
   ]
  },
  {
   "cell_type": "code",
   "execution_count": 76,
   "id": "3121eef7",
   "metadata": {},
   "outputs": [
    {
     "name": "stdout",
     "output_type": "stream",
     "text": [
      "          Country  Year  GDP_Per_Capita  Value Footnotes  Internet_Users_Pct\n",
      "2122      Myanmar  2014     4020.037369              NaN            2.100000\n",
      "2256        Niger  2014     1127.615541              NaN            1.950000\n",
      "1261       Guinea  2014     2061.760973              NaN            1.720000\n",
      "540       Burundi  2014      886.235777              NaN            1.380000\n",
      "3087  Timor-Leste  2014     3264.568070              NaN            1.140000\n",
      "1266       Guinea  2009     1825.576637              NaN            0.940000\n",
      "545       Burundi  2009      831.564131              NaN            0.900000\n",
      "2261        Niger  2009      992.409977              NaN            0.760000\n",
      "1271       Guinea  2004     1778.079082              NaN            0.508819\n",
      "550       Burundi  2004      817.460585              NaN            0.349060\n",
      "2127      Myanmar  2009     2874.780227              NaN            0.220000\n",
      "2266        Niger  2004      929.883920              NaN            0.189934\n",
      "3092  Timor-Leste  2009     2724.770973              NaN            0.185252\n",
      "2132      Myanmar  2004     1696.881760              NaN            0.024337\n"
     ]
    }
   ],
   "source": [
    "bot_5_internet = sub[sub.Country.isin(bottom5.Country)]\n",
    "bot_5_internet = bot_5_internet.sort_values(\"Internet_Users_Pct\",ascending = False)\n",
    "print(bot_5_internet)"
   ]
  },
  {
   "cell_type": "code",
   "execution_count": 77,
   "id": "83975555",
   "metadata": {
    "scrolled": true
   },
   "outputs": [
    {
     "data": {
      "text/plain": [
       "<seaborn.axisgrid.FacetGrid at 0x29992928940>"
      ]
     },
     "execution_count": 77,
     "metadata": {},
     "output_type": "execute_result"
    },
    {
     "data": {
      "image/png": "[encoded data removed]",
      "text/plain": [
       "<Figure size 1174.12x360 with 3 Axes>"
      ]
     },
     "metadata": {
      "needs_background": "light"
     },
     "output_type": "display_data"
    }
   ],
   "source": [
    "g= sns.FacetGrid(bot_5_internet, col= \"Year\", hue=\"Country\", height = 5)\n",
    "g.map(plt.bar, \"Country\", \"Internet_Users_Pct\")\n",
    "g.add_legend(title= \"Country\")"
   ]
  },
  {
   "cell_type": "markdown",
   "id": "ac568401",
   "metadata": {},
   "source": [
    "31. Find the top 5 countries for 2014 in terms of GDP per capita; create a DataFrame to look at 10-year trends (use 2004, 2009, 2014 to look at the 10-year trend) in gdp per capita for the 5 countries with the highest 2014 GDP per capita. Use a seaborn facet grid for this"
   ]
  },
  {
   "cell_type": "code",
   "execution_count": 86,
   "id": "b061629c",
   "metadata": {},
   "outputs": [
    {
     "name": "stdout",
     "output_type": "stream",
     "text": [
      "             Country  Year  GDP_Per_Capita  Value Footnotes  \\\n",
      "1798      Luxembourg  2014   108760.916030              NaN   \n",
      "2542           Qatar  2014    95578.416973              NaN   \n",
      "2751       Singapore  2014    87808.663157              NaN   \n",
      "372          Bermuda  2014    77361.104881              NaN   \n",
      "627   Cayman Islands  2014    66207.447230              NaN   \n",
      "\n",
      "      Internet_Users_Pct  \n",
      "1798               94.67  \n",
      "2542               91.49  \n",
      "2751               82.00  \n",
      "372                96.80  \n",
      "627                74.10  \n"
     ]
    }
   ],
   "source": [
    "top5_gdp = data_2014.nlargest(5, 'GDP_Per_Capita')\n",
    "print(top5_gdp)"
   ]
  },
  {
   "cell_type": "code",
   "execution_count": 84,
   "id": "22853a3a",
   "metadata": {},
   "outputs": [
    {
     "name": "stdout",
     "output_type": "stream",
     "text": [
      "             Country  Year  GDP_Per_Capita  Value Footnotes  \\\n",
      "1798      Luxembourg  2014   108760.916030              NaN   \n",
      "1803      Luxembourg  2009   104932.811953              NaN   \n",
      "1808      Luxembourg  2004   102708.212547              NaN   \n",
      "2542           Qatar  2014    95578.416973              NaN   \n",
      "2552           Qatar  2004    93748.301216              NaN   \n",
      "382          Bermuda  2004    90195.811033              NaN   \n",
      "377          Bermuda  2009    89961.982744              NaN   \n",
      "2547           Qatar  2009    89954.519993              NaN   \n",
      "2751       Singapore  2014    87808.663157              NaN   \n",
      "372          Bermuda  2014    77361.104881              NaN   \n",
      "632   Cayman Islands  2009    70300.334857              NaN   \n",
      "2756       Singapore  2009    69466.581746              NaN   \n",
      "627   Cayman Islands  2014    66207.447230              NaN   \n",
      "2761       Singapore  2004    63901.716368              NaN   \n",
      "\n",
      "      Internet_Users_Pct  \n",
      "1798           94.670000  \n",
      "1803           87.310000  \n",
      "1808           65.880000  \n",
      "2542           91.490000  \n",
      "2552           20.701648  \n",
      "382            60.990867  \n",
      "377            83.250000  \n",
      "2547           53.100000  \n",
      "2751           82.000000  \n",
      "372            96.800000  \n",
      "632            64.500000  \n",
      "2756           69.000000  \n",
      "627            74.100000  \n",
      "2761           62.000000  \n"
     ]
    }
   ],
   "source": [
    "\n",
    "top_5_gdp_per_capita = sub[sub.Country.isin(top5_gdp.Country)]\n",
    "top_5_gdp_per_capita = top_5_gdp_per_capita.sort_values(\"GDP_Per_Capita\", ascending = False)\n",
    "print(top_5_gdp_per_capita)\n"
   ]
  },
  {
   "cell_type": "code",
   "execution_count": 81,
   "id": "b263e414",
   "metadata": {
    "scrolled": true
   },
   "outputs": [
    {
     "data": {
      "text/plain": [
       "<seaborn.axisgrid.FacetGrid at 0x2999371b1f0>"
      ]
     },
     "execution_count": 81,
     "metadata": {},
     "output_type": "execute_result"
    },
    {
     "data": {
      "image/png": "[encoded data removed]",
      "text/plain": [
       "<Figure size 1195.25x360 with 3 Axes>"
      ]
     },
     "metadata": {
      "needs_background": "light"
     },
     "output_type": "display_data"
    }
   ],
   "source": [
    "g= sns.FacetGrid(top_5_gdp_per_capita, col= \"Year\", hue=\"Country\", height = 5)\n",
    "g.map(plt.bar, \"Country\", \"GDP_Per_Capita\")\n",
    "g.add_legend(title= \"Country\")"
   ]
  },
  {
   "cell_type": "code",
   "execution_count": null,
   "id": "2abb8e62",
   "metadata": {},
   "outputs": [],
   "source": []
  }
 ],
 "metadata": {
  "kernelspec": {
   "display_name": "Python 3 (ipykernel)",
   "language": "python",
   "name": "python3"
  },
  "language_info": {
   "codemirror_mode": {
    "name": "ipython",
    "version": 3
   },
   "file_extension": ".py",
   "mimetype": "text/x-python",
   "name": "python",
   "nbconvert_exporter": "python",
   "pygments_lexer": "ipython3",
   "version": "3.9.12"
  }
 },
 "nbformat": 4,
 "nbformat_minor": 5
}
